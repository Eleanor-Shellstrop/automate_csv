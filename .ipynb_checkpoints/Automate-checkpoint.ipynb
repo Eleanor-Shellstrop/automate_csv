{
 "cells": [
  {
   "cell_type": "code",
   "execution_count": 1,
   "id": "6644b48f",
   "metadata": {},
   "outputs": [],
   "source": [
    "import os\n",
    "import re\n",
    "import shutil\n",
    "import sqlite3\n",
    "import pandas as pd"
   ]
  },
  {
   "cell_type": "code",
   "execution_count": 2,
   "id": "18f37fc3",
   "metadata": {},
   "outputs": [
    {
     "name": "stdout",
     "output_type": "stream",
     "text": [
      "Directory changed to csv folder\n"
     ]
    }
   ],
   "source": [
    "os.chdir(\"csv\")\n",
    "print(\"Directory changed to csv folder\")"
   ]
  },
  {
   "cell_type": "code",
   "execution_count": 3,
   "id": "d9e21705",
   "metadata": {},
   "outputs": [],
   "source": [
    "csv_files = []\n",
    "\n",
    "for file in os.listdir(os.getcwd()):\n",
    "    if file.endswith('.csv'):\n",
    "        csv_files.append(file)"
   ]
  },
  {
   "cell_type": "code",
   "execution_count": 4,
   "id": "bf8fdf11",
   "metadata": {},
   "outputs": [
    {
     "data": {
      "text/plain": [
       "['Customer Contracts$.csv', 'Customer Demo.csv', 'Customer Engagements.csv']"
      ]
     },
     "execution_count": 4,
     "metadata": {},
     "output_type": "execute_result"
    }
   ],
   "source": [
    "csv_files"
   ]
  },
  {
   "cell_type": "code",
   "execution_count": 5,
   "id": "f161b96d",
   "metadata": {},
   "outputs": [],
   "source": [
    "dataset_dir = 'datasets'\n",
    "\n",
    "try:\n",
    "    mkdir = 'mkdir {0}'.format(dataset_dir)\n",
    "    os.system(mkdir)\n",
    "except:\n",
    "    print(\"Directory already exists or there is another error\")"
   ]
  },
  {
   "cell_type": "code",
   "execution_count": 6,
   "id": "58a74194",
   "metadata": {},
   "outputs": [
    {
     "name": "stdout",
     "output_type": "stream",
     "text": [
      "File Customer Engagements.csv moved successfully\n",
      "File Customer Engagements.csv moved successfully\n",
      "File Customer Engagements.csv moved successfully\n",
      "There are no CSV files to move\n"
     ]
    }
   ],
   "source": [
    "src_dir = \".\"\n",
    "dst_dir = \"./datasets\"\n",
    "\n",
    "try:\n",
    "    for root, dirs, files in os.walk(src_dir):\n",
    "        for f in files:\n",
    "            if f.endswith('.csv'):\n",
    "                shutil.move(os.path.join(root,f), dst_dir)\n",
    "        print(f\"File {f} moved successfully\")\n",
    "except:\n",
    "    print(\"There are no CSV files to move\")"
   ]
  },
  {
   "cell_type": "code",
   "execution_count": 7,
   "id": "19a753a4",
   "metadata": {},
   "outputs": [
    {
     "name": "stdout",
     "output_type": "stream",
     "text": [
      "Customer Contracts$.csv read successfully\n",
      "Customer Demo.csv read successfully\n",
      "Customer Engagements.csv read successfully\n"
     ]
    }
   ],
   "source": [
    "data_path = os.getcwd()+'/'+dataset_dir+'/'\n",
    "\n",
    "df = {}\n",
    "for file in csv_files:\n",
    "    try:\n",
    "        df[file] = pd.read_csv(data_path+file)\n",
    "    except UnicodeDecodeError:\n",
    "        df[file] = pd.read_csv(data_path+file, encoding=\"ISO-8859-1\")\n",
    "    print(f\"{file} read successfully\")"
   ]
  },
  {
   "cell_type": "code",
   "execution_count": 8,
   "id": "bfac68cb",
   "metadata": {},
   "outputs": [
    {
     "data": {
      "text/html": [
       "<div>\n",
       "<style scoped>\n",
       "    .dataframe tbody tr th:only-of-type {\n",
       "        vertical-align: middle;\n",
       "    }\n",
       "\n",
       "    .dataframe tbody tr th {\n",
       "        vertical-align: top;\n",
       "    }\n",
       "\n",
       "    .dataframe thead th {\n",
       "        text-align: right;\n",
       "    }\n",
       "</style>\n",
       "<table border=\"1\" class=\"dataframe\">\n",
       "  <thead>\n",
       "    <tr style=\"text-align: right;\">\n",
       "      <th></th>\n",
       "      <th>customer_id</th>\n",
       "      <th>customer_name</th>\n",
       "      <th>employee_count</th>\n",
       "      <th>office_location</th>\n",
       "    </tr>\n",
       "  </thead>\n",
       "  <tbody>\n",
       "    <tr>\n",
       "      <th>0</th>\n",
       "      <td>101</td>\n",
       "      <td>Nike</td>\n",
       "      <td>120000</td>\n",
       "      <td>Oregon</td>\n",
       "    </tr>\n",
       "    <tr>\n",
       "      <th>1</th>\n",
       "      <td>102</td>\n",
       "      <td>Reebox</td>\n",
       "      <td>5000</td>\n",
       "      <td>California</td>\n",
       "    </tr>\n",
       "    <tr>\n",
       "      <th>2</th>\n",
       "      <td>103</td>\n",
       "      <td>Adidas</td>\n",
       "      <td>8000</td>\n",
       "      <td>CA</td>\n",
       "    </tr>\n",
       "    <tr>\n",
       "      <th>3</th>\n",
       "      <td>104</td>\n",
       "      <td>Google</td>\n",
       "      <td>500000</td>\n",
       "      <td>CA</td>\n",
       "    </tr>\n",
       "    <tr>\n",
       "      <th>4</th>\n",
       "      <td>105</td>\n",
       "      <td>Amazon</td>\n",
       "      <td>200000</td>\n",
       "      <td>Washington</td>\n",
       "    </tr>\n",
       "    <tr>\n",
       "      <th>5</th>\n",
       "      <td>106</td>\n",
       "      <td>Facebook</td>\n",
       "      <td>40002</td>\n",
       "      <td>CA</td>\n",
       "    </tr>\n",
       "    <tr>\n",
       "      <th>6</th>\n",
       "      <td>107</td>\n",
       "      <td>Apple</td>\n",
       "      <td>8000</td>\n",
       "      <td>CA</td>\n",
       "    </tr>\n",
       "    <tr>\n",
       "      <th>7</th>\n",
       "      <td>108</td>\n",
       "      <td>Airbnb</td>\n",
       "      <td>500000</td>\n",
       "      <td>CA</td>\n",
       "    </tr>\n",
       "    <tr>\n",
       "      <th>8</th>\n",
       "      <td>109</td>\n",
       "      <td>Nest</td>\n",
       "      <td>200000</td>\n",
       "      <td>CA</td>\n",
       "    </tr>\n",
       "    <tr>\n",
       "      <th>9</th>\n",
       "      <td>110</td>\n",
       "      <td>Canon</td>\n",
       "      <td>40002</td>\n",
       "      <td>NY</td>\n",
       "    </tr>\n",
       "  </tbody>\n",
       "</table>\n",
       "</div>"
      ],
      "text/plain": [
       "   customer_id customer_name  employee_count office_location\n",
       "0          101          Nike          120000          Oregon\n",
       "1          102        Reebox            5000      California\n",
       "2          103        Adidas            8000              CA\n",
       "3          104        Google          500000              CA\n",
       "4          105        Amazon          200000      Washington\n",
       "5          106      Facebook           40002              CA\n",
       "6          107         Apple            8000              CA\n",
       "7          108        Airbnb          500000              CA\n",
       "8          109          Nest          200000              CA\n",
       "9          110         Canon           40002              NY"
      ]
     },
     "execution_count": 8,
     "metadata": {},
     "output_type": "execute_result"
    }
   ],
   "source": [
    "# Check dfs\n",
    "df['Customer Demo.csv']"
   ]
  },
  {
   "cell_type": "code",
   "execution_count": 9,
   "id": "16eb837a",
   "metadata": {},
   "outputs": [
    {
     "data": {
      "text/html": [
       "<div>\n",
       "<style scoped>\n",
       "    .dataframe tbody tr th:only-of-type {\n",
       "        vertical-align: middle;\n",
       "    }\n",
       "\n",
       "    .dataframe tbody tr th {\n",
       "        vertical-align: top;\n",
       "    }\n",
       "\n",
       "    .dataframe thead th {\n",
       "        text-align: right;\n",
       "    }\n",
       "</style>\n",
       "<table border=\"1\" class=\"dataframe\">\n",
       "  <thead>\n",
       "    <tr style=\"text-align: right;\">\n",
       "      <th></th>\n",
       "      <th>customer_id</th>\n",
       "      <th>num_of_users</th>\n",
       "      <th>_of_all_employees</th>\n",
       "      <th>sso</th>\n",
       "      <th>launched</th>\n",
       "    </tr>\n",
       "  </thead>\n",
       "  <tbody>\n",
       "    <tr>\n",
       "      <th>0</th>\n",
       "      <td>101</td>\n",
       "      <td>10000</td>\n",
       "      <td>65%</td>\n",
       "      <td>Y</td>\n",
       "      <td>Yes</td>\n",
       "    </tr>\n",
       "    <tr>\n",
       "      <th>1</th>\n",
       "      <td>102</td>\n",
       "      <td>23423</td>\n",
       "      <td>80%</td>\n",
       "      <td>N</td>\n",
       "      <td>No</td>\n",
       "    </tr>\n",
       "    <tr>\n",
       "      <th>2</th>\n",
       "      <td>103</td>\n",
       "      <td>34556</td>\n",
       "      <td>30%</td>\n",
       "      <td>Y</td>\n",
       "      <td>Yes</td>\n",
       "    </tr>\n",
       "    <tr>\n",
       "      <th>3</th>\n",
       "      <td>104</td>\n",
       "      <td>123123</td>\n",
       "      <td>33%</td>\n",
       "      <td>N</td>\n",
       "      <td>No</td>\n",
       "    </tr>\n",
       "    <tr>\n",
       "      <th>4</th>\n",
       "      <td>105</td>\n",
       "      <td>19832</td>\n",
       "      <td>36%</td>\n",
       "      <td>Y</td>\n",
       "      <td>Yes</td>\n",
       "    </tr>\n",
       "    <tr>\n",
       "      <th>5</th>\n",
       "      <td>106</td>\n",
       "      <td>1243</td>\n",
       "      <td>75%</td>\n",
       "      <td>N</td>\n",
       "      <td>No</td>\n",
       "    </tr>\n",
       "    <tr>\n",
       "      <th>6</th>\n",
       "      <td>107</td>\n",
       "      <td>1231</td>\n",
       "      <td>42%</td>\n",
       "      <td>Y</td>\n",
       "      <td>Yes</td>\n",
       "    </tr>\n",
       "    <tr>\n",
       "      <th>7</th>\n",
       "      <td>108</td>\n",
       "      <td>12200</td>\n",
       "      <td>90%</td>\n",
       "      <td>N</td>\n",
       "      <td>No</td>\n",
       "    </tr>\n",
       "    <tr>\n",
       "      <th>8</th>\n",
       "      <td>109</td>\n",
       "      <td>200</td>\n",
       "      <td>48%</td>\n",
       "      <td>Y</td>\n",
       "      <td>Yes</td>\n",
       "    </tr>\n",
       "    <tr>\n",
       "      <th>9</th>\n",
       "      <td>110</td>\n",
       "      <td>1100</td>\n",
       "      <td>51%</td>\n",
       "      <td>N</td>\n",
       "      <td>No</td>\n",
       "    </tr>\n",
       "  </tbody>\n",
       "</table>\n",
       "</div>"
      ],
      "text/plain": [
       "   customer_id  num_of_users _of_all_employees sso launched\n",
       "0          101         10000               65%   Y      Yes\n",
       "1          102         23423               80%   N       No\n",
       "2          103         34556               30%   Y      Yes\n",
       "3          104        123123               33%   N       No\n",
       "4          105         19832               36%   Y      Yes\n",
       "5          106          1243               75%   N       No\n",
       "6          107          1231               42%   Y      Yes\n",
       "7          108         12200               90%   N       No\n",
       "8          109           200               48%   Y      Yes\n",
       "9          110          1100               51%   N       No"
      ]
     },
     "execution_count": 9,
     "metadata": {},
     "output_type": "execute_result"
    }
   ],
   "source": [
    "df['Customer Engagements.csv']"
   ]
  },
  {
   "cell_type": "code",
   "execution_count": 10,
   "id": "4c6fbd8e",
   "metadata": {},
   "outputs": [
    {
     "name": "stdout",
     "output_type": "stream",
     "text": [
      "customer_contracts was created sucessfully\n",
      "customer_demo was created sucessfully\n",
      "customer_engagements was created sucessfully\n"
     ]
    }
   ],
   "source": [
    "for k in csv_files:\n",
    "    dataframe = df[k]\n",
    "    \n",
    "    clean_table_name = k.lower().replace(\" \", \"_\").replace(r\"/\"\"\\\\\", \"_\")\n",
    "    clean_table_name = re.sub(r'[^a-zA-Z0-9_.]','', clean_table_name)    \n",
    "    \n",
    "    dataframe.columns = [x.lower().replace(\" \", \"_\").replace(r\"/\"\"\\\\\", \"_\").strip() for x in dataframe.columns]\n",
    "    dataframe.columns = dataframe.columns.str.replace('[^A-Za-z\\s_.]+', '', regex=True)\n",
    "    \n",
    "    table_name = '{0}'.format(clean_table_name.split('.')[0])\n",
    "    \n",
    "    new_dtypes = {\n",
    "    'object': 'varchar',\n",
    "    'float64': 'float',\n",
    "    'int64': 'int',\n",
    "    'datetime64': 'timestamp',\n",
    "    'timedelta64[ns]': 'varchar'\n",
    "    }\n",
    "    \n",
    "    col_strings = \", \".join(\"{} {}\".format(n, d) for (n, d) in zip(dataframe.columns, dataframe.dtypes.replace(new_dtypes)))\n",
    "    \n",
    "    conn = sqlite3.connect('customers')\n",
    "    c = conn.cursor()\n",
    "\n",
    "    c.execute('''\n",
    "    CREATE TABLE IF NOT EXISTS table_name (\n",
    "    col_strings    \n",
    "    )\n",
    "    ''')\n",
    "    print('{0} was created sucessfully'.format(table_name))\n",
    "    conn.commit()\n",
    "    \n",
    "    dataframe.to_sql(table_name, conn, if_exists='replace', index=False)\n",
    "    \n",
    "    conn.close()"
   ]
  },
  {
   "cell_type": "code",
   "execution_count": null,
   "id": "da2a8713",
   "metadata": {},
   "outputs": [],
   "source": []
  }
 ],
 "metadata": {
  "kernelspec": {
   "display_name": "Python 3 (ipykernel)",
   "language": "python",
   "name": "python3"
  },
  "language_info": {
   "codemirror_mode": {
    "name": "ipython",
    "version": 3
   },
   "file_extension": ".py",
   "mimetype": "text/x-python",
   "name": "python",
   "nbconvert_exporter": "python",
   "pygments_lexer": "ipython3",
   "version": "3.8.11"
  }
 },
 "nbformat": 4,
 "nbformat_minor": 5
}
