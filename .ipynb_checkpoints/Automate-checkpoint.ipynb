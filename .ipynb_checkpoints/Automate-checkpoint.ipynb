{
 "cells": [
  {
   "cell_type": "code",
   "execution_count": 1,
   "id": "6644b48f",
   "metadata": {},
   "outputs": [],
   "source": [
    "import os\n",
    "import pandas as pd"
   ]
  },
  {
   "cell_type": "code",
   "execution_count": 2,
   "id": "18f37fc3",
   "metadata": {},
   "outputs": [
    {
     "name": "stdout",
     "output_type": "stream",
     "text": [
      "Directory changed to csv folder\n"
     ]
    }
   ],
   "source": [
    "os.chdir(\"csv\")\n",
    "print(\"Directory changed to csv folder\")"
   ]
  },
  {
   "cell_type": "code",
   "execution_count": 3,
   "id": "d9e21705",
   "metadata": {},
   "outputs": [],
   "source": [
    "csv_files = []\n",
    "\n",
    "for file in os.listdir(os.getcwd()):\n",
    "    if file.endswith('.csv'):\n",
    "        csv_files.append(file)"
   ]
  },
  {
   "cell_type": "code",
   "execution_count": 4,
   "id": "bf8fdf11",
   "metadata": {},
   "outputs": [
    {
     "data": {
      "text/plain": [
       "['Customer Contracts$.csv', 'Customer Demo.csv', 'Customer Engagements.csv']"
      ]
     },
     "execution_count": 4,
     "metadata": {},
     "output_type": "execute_result"
    }
   ],
   "source": [
    "csv_files"
   ]
  },
  {
   "cell_type": "code",
   "execution_count": 5,
   "id": "f161b96d",
   "metadata": {},
   "outputs": [],
   "source": [
    "dataset_dir = 'datasets'\n",
    "\n",
    "try:\n",
    "    mkdir = 'mkdir {0}'.format(dataset_dir)\n",
    "    os.system(mkdir)\n",
    "except:\n",
    "    print(\"Directory already exists or there is another error\")"
   ]
  },
  {
   "cell_type": "code",
   "execution_count": 6,
   "id": "43c29e1b",
   "metadata": {},
   "outputs": [
    {
     "name": "stdout",
     "output_type": "stream",
     "text": [
      "The file(s): mv 'Customer Contracts$.csv' datasets have been moved\n",
      "The file(s): mv 'Customer Demo.csv' datasets have been moved\n",
      "The file(s): mv 'Customer Engagements.csv' datasets have been moved\n"
     ]
    }
   ],
   "source": [
    "for csv in csv_files:\n",
    "    mv_files = \"mv '{0}' {1}\".format(csv, dataset_dir)\n",
    "    os.system(mv_files)\n",
    "    print(f\"The file(s): {mv_files} have been moved\")"
   ]
  },
  {
   "cell_type": "code",
   "execution_count": null,
   "id": "58a74194",
   "metadata": {},
   "outputs": [],
   "source": []
  }
 ],
 "metadata": {
  "kernelspec": {
   "display_name": "Python 3 (ipykernel)",
   "language": "python",
   "name": "python3"
  },
  "language_info": {
   "codemirror_mode": {
    "name": "ipython",
    "version": 3
   },
   "file_extension": ".py",
   "mimetype": "text/x-python",
   "name": "python",
   "nbconvert_exporter": "python",
   "pygments_lexer": "ipython3",
   "version": "3.8.11"
  }
 },
 "nbformat": 4,
 "nbformat_minor": 5
}
